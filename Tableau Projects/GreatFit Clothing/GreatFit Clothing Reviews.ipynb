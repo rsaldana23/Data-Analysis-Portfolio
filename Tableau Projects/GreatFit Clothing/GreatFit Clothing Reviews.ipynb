{
 "cells": [
  {
   "cell_type": "code",
   "execution_count": 12,
   "id": "e8c36f87",
   "metadata": {},
   "outputs": [],
   "source": [
    "import pandas as pd\n",
    "import sqlite3\n",
    "import re\n",
    "\n",
    "# Read the Excel file into a DataFrame\n",
    "excel_file = r'C:\\Users\\rsald\\Dropbox\\Study Courses\\Udemy\\The Hands-On Masterclass in Data Analytics with Tableau\\Project 2 - GreatFit Clothing Reviews\\Greatfit_Commerce_Reviews.xlsx'\n",
    "df = pd.read_excel(excel_file)\n",
    "\n",
    "# Connect to an in-memory SQLite database\n",
    "conn = sqlite3.connect(':memory:')\n",
    "\n",
    "# Write the DataFrame to a SQL table\n",
    "df.to_sql('reviews', conn, index=False)\n",
    "\n",
    "# Tokenize the reviews to extract individual words\n",
    "query = \"\"\"\n",
    "SELECT word, COUNT(*) as word_count\n",
    "FROM (\n",
    "    SELECT TRIM(SUBSTR(word, 1, INSTR(word || ' ', ' ') - 1)) AS word\n",
    "    FROM (\n",
    "        SELECT REPLACE(Reviews, ' ', '') as word\n",
    "        FROM reviews\n",
    "    )\n",
    ")\n",
    "WHERE LENGTH(word) > 0\n",
    "GROUP BY word\n",
    "ORDER BY word_count DESC\n",
    "LIMIT 50\n",
    "\n",
    "\"\"\"\n",
    "\n",
    "# Execute the query and fetch the results\n",
    "top_words = pd.read_sql(query, conn)\n",
    "\n",
    "# Close the database connection\n",
    "conn.close()\n",
    "\n",
    "# Display the top 50 words\n",
    "#print(top_words)\n",
    "\n",
    "# Export the results to an Excel file at the specified location\n",
    "output_file = r'C:\\Users\\rsald\\Dropbox\\Study Courses\\Udemy\\The Hands-On Masterclass in Data Analytics with Tableau\\Project 2 - GreatFit Clothing Reviews\\top_words.xlsx'\n",
    "top_words.to_excel(output_file, index=False)\n"
   ]
  },
  {
   "cell_type": "code",
   "execution_count": 9,
   "id": "259e7bdd",
   "metadata": {},
   "outputs": [
    {
     "name": "stdout",
     "output_type": "stream",
     "text": [
      "Index(['Review Id', 'Clothing ID', 'Age', 'Title', 'Reviews', 'Rating',\n",
      "       'Recommended IND', 'Positive Feedback Count', 'Division Name',\n",
      "       'Department Name', 'Class Name'],\n",
      "      dtype='object')\n"
     ]
    }
   ],
   "source": [
    "import pandas as pd\n",
    "\n",
    "# Read the Excel file into a DataFrame\n",
    "excel_file = r'C:\\Users\\rsald\\Dropbox\\Study Courses\\Udemy\\The Hands-On Masterclass in Data Analytics with Tableau\\Project 2 - GreatFit Clothing Reviews\\Greatfit_Commerce_Reviews.xlsx'\n",
    "df = pd.read_excel(excel_file)\n",
    "\n",
    "# Display the column names\n",
    "print(df.columns)\n"
   ]
  },
  {
   "cell_type": "code",
   "execution_count": null,
   "id": "836fd836",
   "metadata": {},
   "outputs": [],
   "source": []
  }
 ],
 "metadata": {
  "kernelspec": {
   "display_name": "Python 3 (ipykernel)",
   "language": "python",
   "name": "python3"
  },
  "language_info": {
   "codemirror_mode": {
    "name": "ipython",
    "version": 3
   },
   "file_extension": ".py",
   "mimetype": "text/x-python",
   "name": "python",
   "nbconvert_exporter": "python",
   "pygments_lexer": "ipython3",
   "version": "3.11.4"
  }
 },
 "nbformat": 4,
 "nbformat_minor": 5
}
