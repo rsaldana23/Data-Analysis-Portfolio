{
 "cells": [
  {
   "cell_type": "code",
   "execution_count": 6,
   "id": "53806a13",
   "metadata": {},
   "outputs": [
    {
     "name": "stdout",
     "output_type": "stream",
     "text": [
      "Column names in df1: Index(['Customers', 'Customer Zip Code Prefix', 'Country', 'State',\n",
      "       'Customer City'],\n",
      "      dtype='object')\n",
      "Column names in df2: Index(['Order Id', 'Customers', 'Order Status', 'Order Approved Date',\n",
      "       'Order Delivered Date to Customer', 'Order Delivered to Courier',\n",
      "       'Order Estimated Delivery Date', 'Order Purchase Date'],\n",
      "      dtype='object')\n"
     ]
    }
   ],
   "source": [
    "import pandas as pd\n",
    "\n",
    "# Define absolute paths to the Excel files\n",
    "file1_path = r'C:\\Users\\rsald\\Dropbox\\Study Courses\\Udemy\\The Hands-On Masterclass in Data Analytics with Tableau\\Project 5 - OLIST Logistics Dashboard\\olist_customer_data.xlsx'\n",
    "file2_path = r'C:\\Users\\rsald\\Dropbox\\Study Courses\\Udemy\\The Hands-On Masterclass in Data Analytics with Tableau\\Project 5 - OLIST Logistics Dashboard\\olist_orders_logistics.xlsx'\n",
    "\n",
    "# Read the two Excel files into Pandas DataFrames\n",
    "df1 = pd.read_excel(file1_path)\n",
    "df2 = pd.read_excel(file2_path)\n",
    "\n",
    "# Check the column names in both DataFrames\n",
    "print(\"Column names in df1:\", df1.columns)\n",
    "print(\"Column names in df2:\", df2.columns)\n",
    "\n",
    "# Adjust column names if necessary (e.g., strip leading/trailing spaces)\n",
    "df1.columns = df1.columns.str.strip()\n",
    "df2.columns = df2.columns.str.strip()\n",
    "\n",
    "# Perform the inner join based on the Customer ID column\n",
    "merged_df = pd.merge(df1, df2, left_on='Customers', right_on='Customers', how='inner')\n",
    "\n",
    "# Save or use the merged DataFrame as needed\n",
    "merged_df.to_excel(r'C:\\Users\\rsald\\Dropbox\\Study Courses\\Udemy\\The Hands-On Masterclass in Data Analytics with Tableau\\Project 5 - OLIST Logistics Dashboard\\olist_customer_logistics_data.xlsx', index=False)\n"
   ]
  },
  {
   "cell_type": "code",
   "execution_count": null,
   "id": "24705b22",
   "metadata": {},
   "outputs": [],
   "source": []
  }
 ],
 "metadata": {
  "kernelspec": {
   "display_name": "Python 3 (ipykernel)",
   "language": "python",
   "name": "python3"
  },
  "language_info": {
   "codemirror_mode": {
    "name": "ipython",
    "version": 3
   },
   "file_extension": ".py",
   "mimetype": "text/x-python",
   "name": "python",
   "nbconvert_exporter": "python",
   "pygments_lexer": "ipython3",
   "version": "3.11.4"
  }
 },
 "nbformat": 4,
 "nbformat_minor": 5
}
