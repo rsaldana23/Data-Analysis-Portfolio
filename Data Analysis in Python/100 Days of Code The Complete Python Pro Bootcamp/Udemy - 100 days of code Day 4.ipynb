{
 "cells": [
  {
   "cell_type": "code",
   "execution_count": 6,
   "id": "a227809c",
   "metadata": {},
   "outputs": [
    {
     "name": "stdout",
     "output_type": "stream",
     "text": [
      "3711\n"
     ]
    }
   ],
   "source": [
    "#Using random function to generator random integers\n",
    "import random\n",
    "\n",
    "#import my_module\n",
    "#Print content from my_module\n",
    "#print(my_module.pi)\n",
    "\n",
    "\n",
    "random_integer = random.randint(100,10000)\n",
    "print(random_integer)"
   ]
  },
  {
   "cell_type": "code",
   "execution_count": 10,
   "id": "396850ff",
   "metadata": {},
   "outputs": [
    {
     "name": "stdout",
     "output_type": "stream",
     "text": [
      "7\n",
      "2.6787006761973253\n"
     ]
    }
   ],
   "source": [
    "#Using random function to generator random integers w/ slight variation\n",
    "import random\n",
    "\n",
    "random_integ er = random.randint(1,10)\n",
    "print(random_integer)\n",
    "\n",
    "random_float = random.random() * 5\n",
    "print(random_float)"
   ]
  },
  {
   "cell_type": "code",
   "execution_count": 12,
   "id": "88cff21c",
   "metadata": {},
   "outputs": [
    {
     "name": "stdout",
     "output_type": "stream",
     "text": [
      "John is going to buy the meal today!\n"
     ]
    }
   ],
   "source": [
    "# Define your names string\n",
    "names_string = \"John. Alice. Bob. Sarah\"\n",
    "\n",
    "# Split the string into a list of names\n",
    "names = names_string.split(\". \")\n",
    "\n",
    "import random\n",
    "\n",
    "# Get the total number of items in the list\n",
    "num_items = len(names)\n",
    "\n",
    "# Generate a random number between 0 and the last index\n",
    "random_choice = random.randint(0, num_items - 1)\n",
    "\n",
    "# Pick a random person from the list of names using the random number\n",
    "person_who_will_pay = names[random_choice]\n",
    "\n",
    "print(person_who_will_pay + \" is going to buy the meal today!\")"
   ]
  },
  {
   "cell_type": "code",
   "execution_count": null,
   "id": "060fe9a9",
   "metadata": {},
   "outputs": [],
   "source": []
  }
 ],
 "metadata": {
  "kernelspec": {
   "display_name": "Python 3 (ipykernel)",
   "language": "python",
   "name": "python3"
  },
  "language_info": {
   "codemirror_mode": {
    "name": "ipython",
    "version": 3
   },
   "file_extension": ".py",
   "mimetype": "text/x-python",
   "name": "python",
   "nbconvert_exporter": "python",
   "pygments_lexer": "ipython3",
   "version": "3.11.4"
  }
 },
 "nbformat": 4,
 "nbformat_minor": 5
}
